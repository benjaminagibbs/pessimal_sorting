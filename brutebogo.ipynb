{
 "cells": [
  {
   "cell_type": "code",
   "execution_count": 69,
   "metadata": {},
   "outputs": [],
   "source": [
    "import random as rand"
   ]
  },
  {
   "cell_type": "code",
   "execution_count": 70,
   "metadata": {},
   "outputs": [],
   "source": [
    "howbad = 8\n",
    "randsize = rand.randint(howbad,howbad)\n",
    "myrandoms = rand.sample(range(randsize), randsize)\n",
    "storage = myrandoms[:]"
   ]
  },
  {
   "cell_type": "code",
   "execution_count": 71,
   "metadata": {},
   "outputs": [],
   "source": [
    "def is_sorted(ls):\n",
    "    if all(ls[i] <= ls[i+1] for i in range(len(ls)-1)):\n",
    "        return True\n",
    "    else:\n",
    "        return False\n",
    "    "
   ]
  },
  {
   "cell_type": "code",
   "execution_count": 72,
   "metadata": {},
   "outputs": [
    {
     "name": "stdout",
     "output_type": "stream",
     "text": [
      "We did it! It took  24094  tries\n"
     ]
    }
   ],
   "source": [
    "checklist = rand.sample(range(rand.randint(howbad,howbad)), rand.randint(howbad,howbad))\n",
    "n = 0\n",
    "i = 0\n",
    "while i < 1:\n",
    "    if is_sorted(checklist) != True:\n",
    "        checklist = rand.sample(range(rand.randint(howbad,howbad)), rand.randint(howbad,howbad))\n",
    "        n += 1\n",
    "    elif is_sorted(checklist) == True:\n",
    "        if len(checklist) == len(myrandoms):\n",
    "            print(\"We did it! It took \",n,\" tries\")\n",
    "            i = i + 1\n",
    "        n += 1\n",
    "    if n >= 150000:\n",
    "        print(\"a lot\")\n",
    "        break"
   ]
  },
  {
   "cell_type": "code",
   "execution_count": 73,
   "metadata": {},
   "outputs": [
    {
     "data": {
      "text/plain": [
       "[0, 1, 2, 3, 4, 5, 6, 7]"
      ]
     },
     "execution_count": 73,
     "metadata": {},
     "output_type": "execute_result"
    }
   ],
   "source": [
    "checklist"
   ]
  },
  {
   "cell_type": "code",
   "execution_count": 75,
   "metadata": {},
   "outputs": [
    {
     "data": {
      "text/plain": [
       "[3, 7, 1, 2, 5, 6, 0, 4]"
      ]
     },
     "execution_count": 75,
     "metadata": {},
     "output_type": "execute_result"
    }
   ],
   "source": [
    "myrandoms"
   ]
  },
  {
   "cell_type": "code",
   "execution_count": null,
   "metadata": {},
   "outputs": [],
   "source": []
  }
 ],
 "metadata": {
  "kernelspec": {
   "display_name": "Python 3",
   "language": "python",
   "name": "python3"
  },
  "language_info": {
   "codemirror_mode": {
    "name": "ipython",
    "version": 3
   },
   "file_extension": ".py",
   "mimetype": "text/x-python",
   "name": "python",
   "nbconvert_exporter": "python",
   "pygments_lexer": "ipython3",
   "version": "3.5.2"
  }
 },
 "nbformat": 4,
 "nbformat_minor": 2
}
