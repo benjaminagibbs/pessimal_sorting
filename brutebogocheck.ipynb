{
 "cells": [
  {
   "cell_type": "code",
   "execution_count": 1,
   "metadata": {},
   "outputs": [],
   "source": [
    "import random as rand\n",
    "import statistics as st"
   ]
  },
  {
   "cell_type": "code",
   "execution_count": 2,
   "metadata": {},
   "outputs": [],
   "source": [
    "def brutebogo(howbad):\n",
    "    randsize = rand.randint(howbad,howbad)\n",
    "    myrandoms = rand.sample(range(randsize), randsize)\n",
    "    storage = myrandoms[:]\n",
    "\n",
    "    def is_sorted(ls):\n",
    "        if all(ls[i] <= ls[i+1] for i in range(len(ls)-1)):\n",
    "            return True\n",
    "        else:\n",
    "            return False\n",
    "\n",
    "\n",
    "    checklist = rand.sample(range(rand.randint(howbad,howbad)), rand.randint(howbad,howbad))\n",
    "    n = 0\n",
    "    i = 0\n",
    "    while i < 1:\n",
    "        if is_sorted(checklist) != True:\n",
    "            checklist = rand.sample(range(rand.randint(howbad,howbad)), rand.randint(howbad,howbad))\n",
    "            n += 1\n",
    "        elif is_sorted(checklist) == True:\n",
    "            if len(checklist) == len(myrandoms):\n",
    "                return n\n",
    "                i = i + 1\n",
    "            n += 1"
   ]
  },
  {
   "cell_type": "code",
   "execution_count": 3,
   "metadata": {},
   "outputs": [],
   "source": [
    "def factorial(b):\n",
    "    if b == 0:\n",
    "        return 1\n",
    "    else:\n",
    "        return b * factorial(b-1)"
   ]
  },
  {
   "cell_type": "code",
   "execution_count": 5,
   "metadata": {},
   "outputs": [
    {
     "name": "stdout",
     "output_type": "stream",
     "text": [
      "size  0 :  0  | bogo: 1\n",
      "size  1 :  0  | bogo: 2\n",
      "size  2 :  2  | bogo: 6\n",
      "size  3 :  8  | bogo: 24\n",
      "size  4 :  38  | bogo: 120\n",
      "size  5 :  196  | bogo: 720\n",
      "size  6 :  740  | bogo: 5040\n",
      "size  7 :  3885  | bogo: 40320\n",
      "size  8 :  40124  | bogo: 362880\n"
     ]
    }
   ],
   "source": [
    "results = []\n",
    "\n",
    "for s in range (9):\n",
    "    for _ in range(30):\n",
    "        results.append(brutebogo(s))\n",
    "    print(\"size \",s,\": \", \"{:.0f}\".format(st.mean(results[0+30*s:9+30*s])),\" | bogo:\",factorial(s+1))"
   ]
  },
  {
   "cell_type": "code",
   "execution_count": null,
   "metadata": {},
   "outputs": [],
   "source": []
  },
  {
   "cell_type": "code",
   "execution_count": null,
   "metadata": {},
   "outputs": [],
   "source": []
  }
 ],
 "metadata": {
  "kernelspec": {
   "display_name": "Python 3",
   "language": "python",
   "name": "python3"
  },
  "language_info": {
   "codemirror_mode": {
    "name": "ipython",
    "version": 3
   },
   "file_extension": ".py",
   "mimetype": "text/x-python",
   "name": "python",
   "nbconvert_exporter": "python",
   "pygments_lexer": "ipython3",
   "version": "3.5.2"
  }
 },
 "nbformat": 4,
 "nbformat_minor": 2
}
