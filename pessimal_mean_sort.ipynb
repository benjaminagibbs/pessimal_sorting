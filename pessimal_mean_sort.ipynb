{
 "cells": [
  {
   "cell_type": "code",
   "execution_count": 60,
   "metadata": {},
   "outputs": [],
   "source": [
    "import random as rand\n",
    "import statistics as st\n",
    "import matplotlib.pyplot as plt"
   ]
  },
  {
   "cell_type": "code",
   "execution_count": 61,
   "metadata": {},
   "outputs": [],
   "source": [
    "#Generate random numbers and save a copy of the list\n",
    "my_randoms = rand.sample(range(100), 100)\n",
    "storage = my_randoms[:]"
   ]
  },
  {
   "cell_type": "code",
   "execution_count": 62,
   "metadata": {},
   "outputs": [],
   "source": [
    "kindasortedlist = []\n",
    "\n",
    "\n",
    "while len(my_randoms) > 0:\n",
    "    #find the nearest value to the median\n",
    "    nearest = [abs(x - st.median(my_randoms)) for x in my_randoms]\n",
    "    med = nearest.index(min(nearest))\n",
    "    #move that value over to the kinda sorted list \n",
    "    kindasortedlist.append(my_randoms[med])\n",
    "    my_randoms.remove(my_randoms[med])\n",
    "    "
   ]
  },
  {
   "cell_type": "code",
   "execution_count": 63,
   "metadata": {},
   "outputs": [],
   "source": [
    "#split the kinda sorted list into big half and small half\n",
    "#then flip the small half and stitch them together.\n",
    "upper = []\n",
    "lower = []\n",
    "for i in sortedlist:\n",
    "    if i >= st.median(kindasortedlist):\n",
    "        upper.append(i)\n",
    "    elif i < st.median(kindasortedlist):\n",
    "        lower.insert(0,i)"
   ]
  },
  {
   "cell_type": "code",
   "execution_count": 64,
   "metadata": {},
   "outputs": [],
   "source": [
    "final = lower + upper"
   ]
  },
  {
   "cell_type": "code",
   "execution_count": 65,
   "metadata": {},
   "outputs": [
    {
     "data": {
      "image/png": "[encoded data removed]",
      "text/plain": [
       "<Figure size 432x288 with 1 Axes>"
      ]
     },
     "metadata": {
      "needs_background": "light"
     },
     "output_type": "display_data"
    }
   ],
   "source": [
    "#Plot everything for refference. I'll pretty the plot up later.\n",
    "plt.plot(storage, 'r*', sortedlist, 'bs',final,'k*')\n",
    "plt.show()"
   ]
  },
  {
   "cell_type": "code",
   "execution_count": null,
   "metadata": {},
   "outputs": [],
   "source": []
  }
 ],
 "metadata": {
  "kernelspec": {
   "display_name": "Python 3",
   "language": "python",
   "name": "python3"
  },
  "language_info": {
   "codemirror_mode": {
    "name": "ipython",
    "version": 3
   },
   "file_extension": ".py",
   "mimetype": "text/x-python",
   "name": "python",
   "nbconvert_exporter": "python",
   "pygments_lexer": "ipython3",
   "version": "3.5.2"
  }
 },
 "nbformat": 4,
 "nbformat_minor": 2
}
